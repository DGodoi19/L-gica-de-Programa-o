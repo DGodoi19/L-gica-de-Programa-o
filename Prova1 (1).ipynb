{
  "nbformat": 4,
  "nbformat_minor": 0,
  "metadata": {
    "colab": {
      "provenance": []
    },
    "kernelspec": {
      "name": "python3",
      "display_name": "Python 3"
    },
    "language_info": {
      "name": "python"
    }
  },
  "cells": [
    {
      "cell_type": "markdown",
      "source": [
        "### INSTRUÇÕES\n",
        "\n",
        " - Fazer os exercícios em um arquivo notebook (de extensão *.ipynb)  \n",
        " - Exercícios que pedem entrada de usuário deverão ter valores fixados. Exemplo:  \n",
        "    num = 6 #int(input('Digite um número inteiro')\n",
        " - As questões deverão ser respondidas em ordem\n",
        " - Todas as questões deverão ter uma explicação breve de como você pensou na solução\n",
        " - Cópias de soluções zerarão a questão dos dois fraudadores\n",
        " - Cópias de outros lugares zerarão a questão.\n",
        " - Uso de recursos não vistos em aula zerarão a questão.\n",
        " - Colocar seu nome, curso e dia da semana no início do notebook"
      ],
      "metadata": {
        "id": "2zy40S-oGIta"
      }
    },
    {
      "cell_type": "code",
      "execution_count": null,
      "metadata": {
        "id": "w0krj558fmsA"
      },
      "outputs": [],
      "source": []
    },
    {
      "cell_type": "markdown",
      "source": [
        "### Dados\n",
        "Nome: Daniel Godoi Alves Watrin  \n",
        "Curso:  Ciências da Computação\n",
        "Dia da semana:  Segunda-Feira"
      ],
      "metadata": {
        "id": "I9ysRuzvHIQz"
      }
    },
    {
      "cell_type": "code",
      "source": [],
      "metadata": {
        "id": "WHof30N2GIEM"
      },
      "execution_count": null,
      "outputs": []
    },
    {
      "cell_type": "code",
      "source": [],
      "metadata": {
        "id": "FNHT-F13foEz"
      },
      "execution_count": null,
      "outputs": []
    },
    {
      "cell_type": "markdown",
      "source": [
        "1)\tFaça um programa que peça o ano de nascimento e mostra a idade do usuário no fim de 2025 e o ano que esse usuário fez ou fará 50 anos."
      ],
      "metadata": {
        "id": "Xr0tJjshfpG8"
      }
    },
    {
      "cell_type": "code",
      "source": [
        "ano= 2006 #int(input(\"Informe o ano em que você nasceu: \"))\n",
        "idade_em_2025= 2025 - ano #ano de 2025 - o ano em que a pessoa nasceu = a idade atual dela\n",
        "final= ano + 50 #ano em que a pessoa nasceu + 50 = ano em que fará 50 anos\n",
        "print(\" no final de 2025 você terá: \", idade_em_2025, \" e fará 50 anos no ano: \", final)"
      ],
      "metadata": {
        "id": "h5AEQikXfoCh",
        "colab": {
          "base_uri": "https://localhost:8080/"
        },
        "outputId": "34723ba9-e331-4512-ce08-6e541ad8cc58"
      },
      "execution_count": 1,
      "outputs": [
        {
          "output_type": "stream",
          "name": "stdout",
          "text": [
            " no final de 2025 você terá:  19  e fará 50 anos no ano:  2056\n"
          ]
        }
      ]
    },
    {
      "cell_type": "markdown",
      "source": [
        "2)\t Faça um programa que peça números inteiros ao usuário e conta quantos números positivos e quantos números negativos foram digitados. O programa deverá parar quando o número zero for digitado, mostrando na tela os resultados. Além disso, o programa deverá informar se há mais números positivos, mais números negativos ou se há a mesma quantidade."
      ],
      "metadata": {
        "id": "kx8EMup9fu_j"
      }
    },
    {
      "cell_type": "code",
      "source": [
        "print(\"Digite o número 0 para parar. \")\n",
        "n=int(input(\"Informe um valor inicial: \"))\n",
        "cont_positivo = 0 #contadores começam no 0\n",
        "cont_negativo = 0\n",
        "while n>0 or n<0 #formação do loop\n",
        "  n=int(input(\"Informe um valor: \"))\n",
        "  if n>0:\n",
        "    cont_positivo += 1 #enquanto os valores forem maiores do que 0, o contador continua funcionando e recebendo mais números\n",
        "    print(cont_positivo)\n",
        "  elif n<0:            #enquanto os valores forem menores do que 0, o contador continua funcionando e recebendo mais números\n",
        "    cont_negativo += 1\n",
        "    print(cont_negativo)\n",
        "  else:\n",
        "    print(\"O contador parou\")   #caso o número recebido seja = a 0 o contador para\n",
        "print(\"O número de números positivos é igual a: \", cont_positivo, \"e o número de números negativos é igual a: \", cont_negativo)"
      ],
      "metadata": {
        "id": "sVwWM-7Efn8L",
        "colab": {
          "base_uri": "https://localhost:8080/"
        },
        "collapsed": true,
        "outputId": "8da06671-d83b-4c0b-a36d-afca74908b1a"
      },
      "execution_count": 71,
      "outputs": [
        {
          "output_type": "stream",
          "name": "stdout",
          "text": [
            "Digite o número 0 para parar. \n",
            "Informe um valor: 10\n",
            "1\n",
            "Informe um valor: 1\n",
            "2\n",
            "Informe um valor: 20\n",
            "3\n",
            "Informe um valor: 30\n",
            "4\n",
            "Informe um valor: 40\n",
            "5\n",
            "Informe um valor: 06\n",
            "6\n",
            "Informe um valor: 077\n",
            "7\n",
            "Informe um valor: 0\n",
            "O contador parou\n",
            "O número de números positivos é igual a:  7 e o número de números negativos é igual a:  0\n"
          ]
        }
      ]
    },
    {
      "cell_type": "markdown",
      "source": [
        "3) \tFaça um programa que converta a temperatura de graus Celsius para graus Farenheit ou vice-versa. O programa deverá perguntar se a temperatura de entrada está em Celsius ou Farenheit e mostrar a temperatura digitada convertida para a outra unidade. Fórmulas úteis:  $$C=\\frac{5(F-32)}{9}$$,   $$F=\\frac{9C}{5}+32$$."
      ],
      "metadata": {
        "id": "I1XP2jRpf1lt"
      }
    },
    {
      "cell_type": "code",
      "source": [
        "r=float(input(\"Em qual escala está a temperatura? Digite 1 para Celsius ou 2 para Fahrenreit: \")) #recebe a condição em que o sistema funcionará\n",
        "\n",
        "if r==1:      #caso o sistema já esteja em celsius, efetua buscando converter para fahrenheit através da aplicação da fórmula\n",
        "  n=float(input(\"Informe a temperatura do sistema em Celsius: \"))\n",
        "  f=9*n/5 +32\n",
        "  print(\"A temperatura em graus Fahrenheit é: \", f)\n",
        "elif r==2:                   #caso o sistema já esteja em fahrenheit, efetua buscando converter para celsius através da aplicação da fórmula\n",
        "  n=float(input(\"Informe a temperatura do sistema em Fahrenheit: \"))\n",
        "  c=5*(n-32)/9\n",
        "  print(\"Essa é a temperatura em graus Celsius: \", c)\n",
        "else:\n",
        "  print(\"O valor informado não pertence a nenhuma escala\") #caso as condições informadas não sejam atendidas, o sistma não funciona"
      ],
      "metadata": {
        "id": "HzYZeAfef1HF",
        "colab": {
          "base_uri": "https://localhost:8080/"
        },
        "outputId": "72603dda-89a2-4b29-816a-181a946da177"
      },
      "execution_count": 45,
      "outputs": [
        {
          "output_type": "stream",
          "name": "stdout",
          "text": [
            "Em qual escala está a temperatura? Digite 1 para Celsius ou 2 para Fahrenreit: 2\n",
            "Informe a temperatura do sistema em Fahrenheit: 77\n",
            "Essa é a temperatura em graus Celsius:  25.0\n"
          ]
        }
      ]
    },
    {
      "cell_type": "markdown",
      "source": [
        "4) \tFaça um programa que, dado um número n maior que 5, mostra a primeira letra do seu nome feita com n linhas contendo a letra x. Esse programa deverá ter, no máximo, 4 laços de repetição.\n",
        "Exemplo: n = 6 (letra A):  \n"
      ],
      "metadata": {
        "id": "zx4Qm4wIgmC2"
      }
    },
    {
      "cell_type": "markdown",
      "source": [
        "\n",
        "```\n",
        "Digite um número maior que 5: 6\n",
        "      x     \n",
        "     x x    \n",
        "    x   x   \n",
        "   xxxxxxx  \n",
        "  x       x\n",
        " x         x\n",
        "```\n"
      ],
      "metadata": {
        "id": "UXh7UMeS6idi"
      }
    },
    {
      "cell_type": "code",
      "source": [
        "letra= \"F\" #input(\"Qual a primeira letra do seu nome?\")\n",
        "n=int(input(\"Informe um número:\")) #variaveis\n",
        "n2=n\n",
        "f=int(input(\"informe um numero: \")) #variaveis\n",
        "if n<5:\n",
        "  print(\"nenhuma letra gerada\")\n",
        "else:\n",
        "  for D in range (n2): #linha\n",
        "    print('x', end='')\n",
        "  for D in range (n): #coluna\n",
        "    print ('x')\n",
        "  for D in range (n2): #linha\n",
        "    print('x', end='')\n",
        "  for D in range (f): # linha\n",
        "    print('x')"
      ],
      "metadata": {
        "id": "DdO2Jw4B5I8B",
        "colab": {
          "base_uri": "https://localhost:8080/"
        },
        "outputId": "50920cf1-a797-4044-ff68-9235650789ff"
      },
      "execution_count": 102,
      "outputs": [
        {
          "output_type": "stream",
          "name": "stdout",
          "text": [
            "Informe um número:10\n",
            "informe um numero: 7\n",
            "xxxxxxxxxxx\n",
            "x\n",
            "x\n",
            "x\n",
            "x\n",
            "x\n",
            "x\n",
            "x\n",
            "x\n",
            "x\n",
            "xxxxxxxxxxx\n",
            "x\n",
            "x\n",
            "x\n",
            "x\n",
            "x\n",
            "x\n"
          ]
        }
      ]
    },
    {
      "cell_type": "markdown",
      "source": [
        "Faça um programa que mostre o seguinte padrão na tela, dado um número n:"
      ],
      "metadata": {
        "id": "Y8G9orQV5JdJ"
      }
    },
    {
      "cell_type": "markdown",
      "source": [
        "Digite um número inteiro positivo: 6  \n",
        "1  \n",
        "7 2  \n",
        "12 8 3  \n",
        "16 13 9 4  \n",
        "19 17 14 10 5  \n",
        "21 20 18 15 11 6"
      ],
      "metadata": {
        "id": "V2nNYQo95j1l"
      }
    },
    {
      "cell_type": "markdown",
      "source": [
        "Digite um número inteiro positivo: 4  \n",
        "1  \n",
        "5 2  \n",
        "8 6 3  \n",
        "10 9 7 4  "
      ],
      "metadata": {
        "id": "vWmTrxz05tPQ"
      }
    },
    {
      "cell_type": "code",
      "source": [
        "#nao consegui fazer"
      ],
      "metadata": {
        "id": "dDlYfLqnf8TH"
      },
      "execution_count": null,
      "outputs": []
    }
  ]
}